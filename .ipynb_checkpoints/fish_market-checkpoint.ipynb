{
 "cells": [
  {
   "cell_type": "code",
   "execution_count": 6,
   "id": "ee6ae43c",
   "metadata": {},
   "outputs": [],
   "source": [
    "import pandas as pd\n",
    "import matplotlib.pyplot as plt"
   ]
  },
  {
   "cell_type": "code",
   "execution_count": 7,
   "id": "be558ef6",
   "metadata": {},
   "outputs": [],
   "source": [
    "class Fish():\n",
    "    def __init__(self, species, weight, length1, length2, length3, height, width):\n",
    "        self.species = species\n",
    "        self.weight = weight\n",
    "        self.length1 = length1\n",
    "        self.length2 = length2\n",
    "        self.length3 = length3\n",
    "        self.height = height\n",
    "        self.width = width\n",
    "\n",
    "    def __str__(self):\n",
    "        return f\"species = {self.species}, weight = {self.weight},length1 = {self.length1},length2 = {self.length2},length3 = {self.length3},height = {self.height},width = {self.width},\"\n"
   ]
  },
  {
   "cell_type": "code",
   "execution_count": 8,
   "id": "770e9dc4",
   "metadata": {
    "scrolled": true
   },
   "outputs": [
    {
     "name": "stdout",
     "output_type": "stream",
     "text": [
      "  Species  Weight  Length1  Length2  Length3   Height   Width\n",
      "0   Bream   242.0     23.2     25.4     30.0  11.5200  4.0200\n",
      "1   Bream   290.0     24.0     26.3     31.2  12.4800  4.3056\n",
      "2   Bream   340.0     23.9     26.5     31.1  12.3778  4.6961\n",
      "3   Bream   363.0     26.3     29.0     33.5  12.7300  4.4555\n",
      "4   Bream   430.0     26.5     29.0     34.0  12.4440  5.1340\n"
     ]
    }
   ],
   "source": [
    "# 데이터 불러오기\n",
    "df = pd.read_csv('Fish.csv')\n",
    "\n",
    "# 종으로 분류할 때 사용할 리스트 생산\n",
    "fish_by_species = {}\n",
    "print(df.head())"
   ]
  },
  {
   "cell_type": "code",
   "execution_count": 14,
   "id": "8a494d1a",
   "metadata": {},
   "outputs": [],
   "source": [
    "# Iterate through the DataFrame and create fish objects\n",
    "for index, row in df.iterrows():\n",
    "    species = row['Species']\n",
    "    fish = Fish(species=row['Species'],\n",
    "                weight=row['Weight'],\n",
    "                length1=row['Length1'],\n",
    "                length2=row['Length2'],\n",
    "                length3=row['Length3'],\n",
    "                height=row['Height'],\n",
    "                width=row['Width'])\n",
    "    \n",
    "    # Check if the species already has a list of fish objects, and add the fish accordingly\n",
    "    if species in fish_by_species:\n",
    "        fish_by_species[species].append(fish)\n",
    "    else:\n",
    "        fish_by_species[species] = [fish]"
   ]
  },
  {
   "cell_type": "code",
   "execution_count": 12,
   "id": "838e1df2",
   "metadata": {},
   "outputs": [
    {
     "data": {
      "image/png": "[encoded data removed]",
      "text/plain": [
       "<Figure size 432x288 with 1 Axes>"
      ]
     },
     "metadata": {
      "needs_background": "light"
     },
     "output_type": "display_data"
    }
   ],
   "source": [
    "bream_data = fish_by_species.get(\"Bream\")\n",
    "\n",
    "# Check if the species \"Bream\" exists in the dictionary\n",
    "if bream_data:\n",
    "    # Extract length1 and weight attributes for each fish in the list\n",
    "    lengths = [fish.length1 for fish in bream_data]\n",
    "    weights = [fish.weight for fish in bream_data]\n",
    "    \n",
    "    # Create a scatter plot\n",
    "    plt.scatter(lengths, weights)\n",
    "    plt.xlabel('Length1')\n",
    "    plt.ylabel('Weight')\n",
    "    plt.title('Scatter Plot for Bream Species')\n",
    "    \n",
    "    # Show the plot\n",
    "    plt.show()\n",
    "else:\n",
    "    print(\"No data found for the species 'Bream'.\")\n",
    "    "
   ]
  },
  {
   "cell_type": "code",
   "execution_count": 13,
   "id": "ef5fb39f",
   "metadata": {},
   "outputs": [
    {
     "data": {
      "image/png": "[encoded data removed]",
      "text/plain": [
       "<Figure size 432x288 with 1 Axes>"
      ]
     },
     "metadata": {
      "needs_background": "light"
     },
     "output_type": "display_data"
    }
   ],
   "source": [
    "# Access the list of fish objects for the \"Bream\" and \"Smelt\" species from the dictionary\n",
    "bream_data = fish_by_species.get(\"Bream\")\n",
    "smelt_data = fish_by_species.get(\"Smelt\")\n",
    "\n",
    "# Check if the species \"Bream\" exists in the dictionary\n",
    "if bream_data:\n",
    "    # Extract length1 and weight attributes for each fish in the \"Bream\" list\n",
    "    bream_lengths = [fish.length1 for fish in bream_data]\n",
    "    bream_weights = [fish.weight for fish in bream_data]\n",
    "\n",
    "    # Create a scatter plot for \"Bream\" species\n",
    "    plt.scatter(bream_lengths, bream_weights, label=\"Bream\")\n",
    "\n",
    "# Check if the species \"Smelt\" exists in the dictionary\n",
    "if smelt_data:\n",
    "    # Extract length1 and weight attributes for each fish in the \"Smelt\" list\n",
    "    smelt_lengths = [fish.length1 for fish in smelt_data]\n",
    "    smelt_weights = [fish.weight for fish in smelt_data]\n",
    "\n",
    "    # Create a scatter plot for \"Smelt\" species\n",
    "    plt.scatter(smelt_lengths, smelt_weights, label=\"Smelt\")\n",
    "\n",
    "# Add labels, legend, and title\n",
    "plt.xlabel('Length1')\n",
    "plt.ylabel('Weight')\n",
    "plt.title('Scatter Plot for Bream and Smelt Species')\n",
    "plt.legend()\n",
    "\n",
    "# Show the combined plot\n",
    "plt.show()\n"
   ]
  },
  {
   "cell_type": "code",
   "execution_count": null,
   "id": "732a9bbd",
   "metadata": {},
   "outputs": [],
   "source": []
  }
 ],
 "metadata": {
  "kernelspec": {
   "display_name": "Python 3",
   "language": "python",
   "name": "python3"
  },
  "language_info": {
   "codemirror_mode": {
    "name": "ipython",
    "version": 3
   },
   "file_extension": ".py",
   "mimetype": "text/x-python",
   "name": "python",
   "nbconvert_exporter": "python",
   "pygments_lexer": "ipython3",
   "version": "3.7.4"
  }
 },
 "nbformat": 4,
 "nbformat_minor": 5
}
